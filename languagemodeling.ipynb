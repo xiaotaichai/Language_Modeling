{
 "cells": [
  {
   "cell_type": "code",
   "execution_count": 1,
   "metadata": {},
   "outputs": [],
   "source": [
    "import nltk\n",
    "import sys\n",
    "from nltk.probability import ConditionalFreqDist\n",
    "from itertools import chain\n",
    "from collections import defaultdict\n",
    "import numpy as np"
   ]
  },
  {
   "cell_type": "markdown",
   "metadata": {},
   "source": [
    "### 1. First train a unigram language model using maximum likelihood estimation."
   ]
  },
  {
   "cell_type": "code",
   "execution_count": 2,
   "metadata": {},
   "outputs": [
    {
     "data": {
      "text/plain": [
       "{'A': 0.3333333333333333, 'B': 0.3333333333333333, 'C': 0.3333333333333333}"
      ]
     },
     "execution_count": 2,
     "metadata": {},
     "output_type": "execute_result"
    }
   ],
   "source": [
    "def unigram(file):\n",
    "    # Find the total number of words in the file\n",
    "    total_words = len(file)\n",
    "\n",
    "    # Find the total number of DISTINCT words in the file\n",
    "    total_distinct_words = len (set(w for w in file))\n",
    "    \n",
    "    # Count frequency over the words in the file\n",
    "    freqs = {}\n",
    "    for w in file:\n",
    "        freqs[w] = freqs.get(w, 0) + 1\n",
    "    \n",
    "    # Get probability of unigram model\n",
    "    prob = {k: v / total_words for k, v in freqs.items()}\n",
    "   \n",
    "    # Return the word counts\n",
    "    return (total_words, total_distinct_words, freqs, prob)\n",
    "\n",
    "train1 = 'AAABACBABBBCCACBCC'\n",
    "unigram(train1)"
   ]
  },
  {
   "cell_type": "code",
   "execution_count": 3,
   "metadata": {},
   "outputs": [
    {
     "name": "stdout",
     "output_type": "stream",
     "text": [
      "Total words in train1: 18\n",
      "Total distinct words in train1: 3\n",
      "The frequency of words in train1: {'A': 6, 'B': 6, 'C': 6}\n",
      "The probability of words in train1: {'A': 0.3333333333333333, 'B': 0.3333333333333333, 'C': 0.3333333333333333}\n"
     ]
    }
   ],
   "source": [
    "file = train1\n",
    "(tokens,types,freqs,prob) = unigram(file)\n",
    "print ('Total words in train1: %s' %(tokens))\n",
    "print ('Total distinct words in train1: %s' %(types))\n",
    "print ('The frequency of words in train1: %s' %(freqs))\n",
    "print ('The probability of words in train1: %s' %(prob))"
   ]
  },
  {
   "cell_type": "markdown",
   "metadata": {},
   "source": [
    "### 2. Next train a bigram language model using maximum likelihood estimation."
   ]
  },
  {
   "cell_type": "code",
   "execution_count": 4,
   "metadata": {},
   "outputs": [
    {
     "data": {
      "text/plain": [
       "0.16666666666666666"
      ]
     },
     "execution_count": 4,
     "metadata": {},
     "output_type": "execute_result"
    }
   ],
   "source": [
    "def bigram(w,w0,file):\n",
    "    p = 0.0\n",
    "\n",
    "    file_w = [w for w in file]\n",
    "    file_bigram = zip(file_w[:-1], file_w[1:])  # list of bigrams as tuples\n",
    "    # (above doesn't include begin/end of corpus: but basically this is fine)\n",
    "    file_bigram = (list(file_bigram))\n",
    "\n",
    "    # Compute probability of w given w0\n",
    "    p = float(file_bigram.count((w0, w))) / (file_w.count(w0))\n",
    "\n",
    "    # Return probability\n",
    "    # print ('The Probability of', w, 'given', w0, 'is', p)\n",
    "    return p\n",
    "    \n",
    "train2 = 'AAABACBABBBCCACBCC$'\n",
    "bigram('A', 'C', train2)"
   ]
  },
  {
   "cell_type": "markdown",
   "metadata": {},
   "source": [
    "### 3. Now evaluate your language models on the corpus"
   ]
  },
  {
   "cell_type": "code",
   "execution_count": 5,
   "metadata": {},
   "outputs": [
    {
     "data": {
      "text/plain": [
       "3.0"
      ]
     },
     "execution_count": 5,
     "metadata": {},
     "output_type": "execute_result"
    }
   ],
   "source": [
    "test1 = 'ABACABB'\n",
    "\n",
    "def unigram_perplexity(test):\n",
    "    n = len(test)\n",
    "    \n",
    "    # Count frequency over the words in the test file\n",
    "    freqs = {}\n",
    "    for w in test:\n",
    "        freqs[w] = freqs.get(w, 0) + 1\n",
    "        \n",
    "    # Get probability of each word from the model trained on train1\n",
    "    get_prob = unigram(train1)[3]\n",
    "    \n",
    "    # Calculate prob(letter) ** freqs of the letter\n",
    "    result_dict = {}\n",
    "    for w in freqs:\n",
    "        if w in get_prob:\n",
    "            result_dict[w] = get_prob[w]**freqs[w]\n",
    "    \n",
    "    # Calculate perplexity\n",
    "    perplexity = 1\n",
    "    for key in result_dict:    \n",
    "        perplexity = perplexity * result_dict[key]\n",
    "    \n",
    "    perplexity = perplexity **(-1/n)\n",
    "    \n",
    "    return perplexity\n",
    "\n",
    "unigram_perplexity(test1)\n"
   ]
  },
  {
   "cell_type": "markdown",
   "metadata": {},
   "source": [
    "### Calculating perplexity on this test file will give an infinite because I haven't dealt with unknown words yet."
   ]
  },
  {
   "cell_type": "code",
   "execution_count": 6,
   "metadata": {},
   "outputs": [
    {
     "name": "stderr",
     "output_type": "stream",
     "text": [
      "/home/xiaotai/anaconda3/lib/python3.6/site-packages/ipykernel_launcher.py:14: RuntimeWarning: divide by zero encountered in log\n",
      "  \n",
      "/home/xiaotai/anaconda3/lib/python3.6/site-packages/ipykernel_launcher.py:16: RuntimeWarning: divide by zero encountered in double_scalars\n",
      "  app.launch_new_instance()\n"
     ]
    },
    {
     "data": {
      "text/plain": [
       "inf"
      ]
     },
     "execution_count": 6,
     "metadata": {},
     "output_type": "execute_result"
    }
   ],
   "source": [
    "test2 = 'ABACABB$'\n",
    "\n",
    "def bigram_complexity(test):\n",
    "    n = len(test)\n",
    "    \n",
    "    # Find pairs of letters\n",
    "    test_w = [w for w in test]\n",
    "    test_bigram = zip(test_w[:-1], test_w[1:])\n",
    "    test_bigram = (list(test_bigram))\n",
    "    \n",
    "    prob = []\n",
    "    for w0, w in test_bigram:\n",
    "        prob += [bigram(w,w0, train2)]\n",
    "    prob = np.log(prob)\n",
    "    prob = np.exp(sum(prob))\n",
    "    perplexity = prob **(-1/n)\n",
    "    \n",
    "    return (perplexity)\n",
    "\n",
    "bigram_complexity(test2)"
   ]
  },
  {
   "cell_type": "markdown",
   "metadata": {
    "collapsed": true
   },
   "source": [
    "### 4. Now repeat everything above for add-1 (Laplace) smoothing."
   ]
  },
  {
   "cell_type": "code",
   "execution_count": 11,
   "metadata": {},
   "outputs": [
    {
     "data": {
      "text/plain": [
       "(18,\n",
       " 3,\n",
       " {'A': 6, 'B': 6, 'C': 6},\n",
       " {'A': 0.3333333333333333, 'B': 0.3333333333333333, 'C': 0.3333333333333333})"
      ]
     },
     "execution_count": 11,
     "metadata": {},
     "output_type": "execute_result"
    }
   ],
   "source": [
    "def unigram_laplace(file):\n",
    "    # Find the total number of words in the file\n",
    "    total_words = len(file)\n",
    "\n",
    "    # Find the total number of DISTINCT words in the file\n",
    "    total_distinct_words = len (set(w for w in file))\n",
    "    \n",
    "    # Count frequency over the words in the file\n",
    "    freqs = {}\n",
    "    for w in file:\n",
    "        freqs[w] = freqs.get(w, 0) + 1\n",
    "    \n",
    "    # Get probability of unigram model\n",
    "    prob = {k: (v+1) / (total_words +total_distinct_words) for k, v in freqs.items()}\n",
    "   \n",
    "    # Return the word counts\n",
    "    return (total_words, total_distinct_words, freqs, prob)\n",
    "\n",
    "train1 = 'AAABACBABBBCCACBCC'\n",
    "unigram_laplace(train1)"
   ]
  },
  {
   "cell_type": "code",
   "execution_count": 19,
   "metadata": {},
   "outputs": [
    {
     "data": {
      "text/plain": [
       "0.07692307692307693"
      ]
     },
     "execution_count": 19,
     "metadata": {},
     "output_type": "execute_result"
    }
   ],
   "source": [
    "def bigram_laplace(w,w0,file):\n",
    "    p = 0.0\n",
    "\n",
    "    file_w = [w for w in file]\n",
    "    file_bigram = zip(file_w[:-1], file_w[1:])  # list of bigrams as tuples\n",
    "    # (above doesn't include begin/end of corpus: but basically this is fine)\n",
    "    file_bigram = (list(file_bigram))\n",
    "    \n",
    "    # Get the total number of different combination types\n",
    "    v = len (set(x for x in file_w[:-1])) * len (set(x for x in file_w[1:]))\n",
    "\n",
    "    # Compute probability of w given w0\n",
    "    p = float(file_bigram.count((w0, w))+1) / (file_w.count(w0) + v )\n",
    "\n",
    "    # Return probability\n",
    "    # print ('The Probability of', w, 'given', w0, 'is', p)\n",
    "    return p\n",
    "    \n",
    "train2 = 'AAABACBABBBCCACBCC$'\n",
    "bigram_laplace('A', '$', train2)"
   ]
  },
  {
   "cell_type": "code",
   "execution_count": 20,
   "metadata": {},
   "outputs": [
    {
     "data": {
      "text/plain": [
       "3.0"
      ]
     },
     "execution_count": 20,
     "metadata": {},
     "output_type": "execute_result"
    }
   ],
   "source": [
    "test1 = 'ABACABB'\n",
    "\n",
    "def unigram_laplace_perplexity(test):\n",
    "    n = len(test)\n",
    "    \n",
    "    # Count frequency over the words in the test file\n",
    "    freqs = {}\n",
    "    for w in test:\n",
    "        freqs[w] = freqs.get(w, 0) + 1\n",
    "        \n",
    "    # Get probability of each word from the model trained on train1\n",
    "    get_prob = unigram_laplace(train1)[3]\n",
    "    \n",
    "    # Calculate prob(letter) ** freqs of the letter\n",
    "    result_dict = {}\n",
    "    for w in freqs:\n",
    "        if w in get_prob:\n",
    "            result_dict[w] = get_prob[w]**freqs[w]\n",
    "    \n",
    "    # Calculate perplexity\n",
    "    perplexity = 1\n",
    "    for key in result_dict:    \n",
    "        perplexity = perplexity * result_dict[key]\n",
    "    \n",
    "    perplexity = perplexity **(-1/n)\n",
    "    \n",
    "    return perplexity\n",
    "\n",
    "unigram_laplace_perplexity(test1)\n"
   ]
  },
  {
   "cell_type": "code",
   "execution_count": 21,
   "metadata": {},
   "outputs": [
    {
     "data": {
      "text/plain": [
       "5.788071779761857"
      ]
     },
     "execution_count": 21,
     "metadata": {},
     "output_type": "execute_result"
    }
   ],
   "source": [
    "test2 = 'ABACABB$'\n",
    "\n",
    "def bigram_laplace_complexity(test):\n",
    "    n = len(test)\n",
    "    \n",
    "    # Find pairs of letters\n",
    "    test_w = [w for w in test]\n",
    "    test_bigram = zip(test_w[:-1], test_w[1:])\n",
    "    test_bigram = (list(test_bigram))\n",
    "    \n",
    "    prob = []\n",
    "    for w0, w in test_bigram:\n",
    "        prob += [bigram_laplace(w,w0, train2)]\n",
    "    prob = np.log(prob)\n",
    "    prob = np.exp(sum(prob))\n",
    "    perplexity = prob **(-1/n)\n",
    "    \n",
    "    return (perplexity)\n",
    "\n",
    "bigram_laplace_complexity(test2)"
   ]
  },
  {
   "cell_type": "code",
   "execution_count": null,
   "metadata": {},
   "outputs": [],
   "source": []
  }
 ],
 "metadata": {
  "kernelspec": {
   "display_name": "Python 3",
   "language": "python",
   "name": "python3"
  },
  "language_info": {
   "codemirror_mode": {
    "name": "ipython",
    "version": 3
   },
   "file_extension": ".py",
   "mimetype": "text/x-python",
   "name": "python",
   "nbconvert_exporter": "python",
   "pygments_lexer": "ipython3",
   "version": "3.6.5"
  }
 },
 "nbformat": 4,
 "nbformat_minor": 2
}
